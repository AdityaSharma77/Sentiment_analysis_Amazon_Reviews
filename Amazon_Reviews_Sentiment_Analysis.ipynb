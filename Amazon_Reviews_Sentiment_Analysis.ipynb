{
 "cells": [
  {
   "cell_type": "code",
   "execution_count": 7,
   "id": "4bfd9efc",
   "metadata": {},
   "outputs": [
    {
     "name": "stdout",
     "output_type": "stream",
     "text": [
      "Accuracy: 0.8219735503560529\n"
     ]
    }
   ],
   "source": [
    "\"\"\"\n",
    "NAIVES BAYES\n",
    "\"\"\"\n",
    "\n",
    "from sklearn.feature_extraction.text import CountVectorizer\n",
    "from sklearn.naive_bayes import MultinomialNB\n",
    "from sklearn.metrics import accuracy_score\n",
    "from sklearn.model_selection import train_test_split\n",
    "import pandas as pd\n",
    "\n",
    "dataset = pd.read_csv('amazon_reviews.csv')\n",
    "dataset.dropna(subset=['reviewText', 'overall'], inplace=True) \n",
    "# Preprocess your dataset and split it into features (X) and labels (y)\n",
    "X = dataset['reviewText']\n",
    "y = dataset['overall']\n",
    "\n",
    "# Split the dataset into training and testing sets\n",
    "X_train, X_test, y_train, y_test = train_test_split(X, y, test_size=0.2, random_state=42)\n",
    "\n",
    "# Convert text data into numerical feature vectors using CountVectorizer\n",
    "vectorizer = CountVectorizer()\n",
    "X_train_vectors = vectorizer.fit_transform(X_train)\n",
    "X_test_vectors = vectorizer.transform(X_test)\n",
    "\n",
    "# Train the Naive Bayes classifier\n",
    "clf = MultinomialNB()\n",
    "clf.fit(X_train_vectors, y_train)\n",
    "\n",
    "# Predict sentiment on the test set\n",
    "y_pred = clf.predict(X_test_vectors)\n",
    "\n",
    "# Evaluate the accuracy of the model\n",
    "accuracy_nb = accuracy_score(y_test, y_pred)\n",
    "print(\"Accuracy:\", accuracy_nb)\n"
   ]
  },
  {
   "cell_type": "code",
   "execution_count": 8,
   "id": "b9dd984a",
   "metadata": {},
   "outputs": [
    {
     "name": "stdout",
     "output_type": "stream",
     "text": [
      "Accuracy: 0.8128179043743642\n"
     ]
    }
   ],
   "source": [
    "\"\"\"\n",
    "Support Vector Machines\n",
    "\"\"\"\n",
    "\n",
    "from sklearn.feature_extraction.text import TfidfVectorizer\n",
    "from sklearn.svm import SVC\n",
    "from sklearn.metrics import accuracy_score\n",
    "from sklearn.model_selection import train_test_split\n",
    "\n",
    "# Preprocess your dataset and split it into features (X) and labels (y)\n",
    "X = dataset['reviewText']\n",
    "y = dataset['overall']\n",
    "\n",
    "# Split the dataset into training and testing sets\n",
    "X_train, X_test, y_train, y_test = train_test_split(X, y, test_size=0.2, random_state=42)\n",
    "\n",
    "# Convert text data into numerical feature vectors using TF-IDF vectorizer\n",
    "vectorizer = TfidfVectorizer()\n",
    "X_train_vectors = vectorizer.fit_transform(X_train)\n",
    "X_test_vectors = vectorizer.transform(X_test)\n",
    "\n",
    "# Train the SVM classifier\n",
    "clf = SVC()\n",
    "clf.fit(X_train_vectors, y_train)\n",
    "\n",
    "# Predict sentiment on the test set\n",
    "y_pred = clf.predict(X_test_vectors)\n",
    "\n",
    "# Evaluate the accuracy of the model\n",
    "accuracy_svm = accuracy_score(y_test, y_pred)\n",
    "print(\"Accuracy:\", accuracy_svm)\n"
   ]
  },
  {
   "cell_type": "code",
   "execution_count": 9,
   "id": "eb1974f4",
   "metadata": {},
   "outputs": [
    {
     "name": "stdout",
     "output_type": "stream",
     "text": [
      "Epoch 1/10\n",
      "123/123 [==============================] - 232s 2s/step - loss: -61.3881 - accuracy: 0.0293 - val_loss: -99.2843 - val_accuracy: 0.0448\n",
      "Epoch 2/10\n",
      "123/123 [==============================] - 267s 2s/step - loss: -128.2644 - accuracy: 0.0509 - val_loss: -159.7639 - val_accuracy: 0.0448\n",
      "Epoch 3/10\n",
      "123/123 [==============================] - 301s 2s/step - loss: -186.8607 - accuracy: 0.0509 - val_loss: -217.7985 - val_accuracy: 0.0448\n",
      "Epoch 4/10\n",
      "123/123 [==============================] - 301s 2s/step - loss: -243.8534 - accuracy: 0.0509 - val_loss: -274.9148 - val_accuracy: 0.0448\n",
      "Epoch 5/10\n",
      "123/123 [==============================] - 303s 2s/step - loss: -300.1529 - accuracy: 0.0509 - val_loss: -331.5367 - val_accuracy: 0.0448\n",
      "Epoch 6/10\n",
      "123/123 [==============================] - 305s 2s/step - loss: -356.6740 - accuracy: 0.0509 - val_loss: -389.0302 - val_accuracy: 0.0448\n",
      "Epoch 7/10\n",
      "123/123 [==============================] - 273s 2s/step - loss: -413.4356 - accuracy: 0.0509 - val_loss: -446.0164 - val_accuracy: 0.0448\n",
      "Epoch 8/10\n",
      "123/123 [==============================] - 276s 2s/step - loss: -469.7596 - accuracy: 0.0509 - val_loss: -502.7887 - val_accuracy: 0.0448\n",
      "Epoch 9/10\n",
      "123/123 [==============================] - 262s 2s/step - loss: -525.8546 - accuracy: 0.0509 - val_loss: -559.3171 - val_accuracy: 0.0448\n",
      "Epoch 10/10\n",
      "123/123 [==============================] - 258s 2s/step - loss: -581.8121 - accuracy: 0.0509 - val_loss: -615.7292 - val_accuracy: 0.0448\n",
      "31/31 [==============================] - 24s 784ms/step - loss: -615.7292 - accuracy: 0.0448\n",
      "Accuracy: 0.04476093500852585\n"
     ]
    }
   ],
   "source": [
    "\"\"\"\n",
    "Recurrent Neural Networks with LSTM\n",
    "\"\"\"\n",
    "\n",
    "\n",
    "from tensorflow.keras.preprocessing.text import Tokenizer\n",
    "from tensorflow.keras.preprocessing.sequence import pad_sequences\n",
    "from tensorflow.keras.models import Sequential\n",
    "from tensorflow.keras.layers import Embedding, LSTM, Dense\n",
    "from tensorflow.keras.metrics import Accuracy\n",
    "from sklearn.model_selection import train_test_split\n",
    "\n",
    "# Preprocess your dataset and split it into features (X) and labels (y)\n",
    "X = dataset['reviewText']\n",
    "y = dataset['overall']\n",
    "\n",
    "# Split the dataset into training and testing sets\n",
    "X_train, X_test, y_train, y_test = train_test_split(X, y, test_size=0.2, random_state=42)\n",
    "\n",
    "# Tokenize the text and convert it into sequences\n",
    "tokenizer = Tokenizer()\n",
    "tokenizer.fit_on_texts(X_train)\n",
    "X_train_sequences = tokenizer.texts_to_sequences(X_train)\n",
    "X_test_sequences = tokenizer.texts_to_sequences(X_test)\n",
    "\n",
    "# Pad sequences to ensure they have the same length\n",
    "max_sequence_length = max(len(seq) for seq in X_train_sequences)\n",
    "X_train_padded = pad_sequences(X_train_sequences, maxlen=max_sequence_length)\n",
    "X_test_padded = pad_sequences(X_test_sequences, maxlen=max_sequence_length)\n",
    "\n",
    "# Build the RNN model\n",
    "model = Sequential()\n",
    "model.add(Embedding(input_dim=len(tokenizer.word_index) + 1, output_dim=100, input_length=max_sequence_length))\n",
    "model.add(LSTM(128))\n",
    "model.add(Dense(1, activation='sigmoid'))\n",
    "\n",
    "# Compile the model\n",
    "model.compile(loss='binary_crossentropy', optimizer='adam', metrics=[Accuracy()])\n",
    "\n",
    "# Train the model\n",
    "model.fit(X_train_padded, y_train, batch_size=32, epochs=10, validation_data=(X_test_padded, y_test))\n",
    "\n",
    "# Evaluate the model\n",
    "_, accuracy_rnn = model.evaluate(X_test_padded, y_test)\n",
    "print(\"Accuracy:\", accuracy_rnn)\n"
   ]
  },
  {
   "cell_type": "code",
   "execution_count": 11,
   "id": "e1fc0803",
   "metadata": {},
   "outputs": [
    {
     "name": "stdout",
     "output_type": "stream",
     "text": [
      "Accuracy: 0.8219735503560529\n",
      "Precision: 0.732938289705565\n",
      "Recall: 0.8219735503560529\n",
      "F1-score: 0.7599277093601784\n"
     ]
    },
    {
     "name": "stderr",
     "output_type": "stream",
     "text": [
      "C:\\Users\\MYPC\\anaconda3\\lib\\site-packages\\sklearn\\metrics\\_classification.py:1344: UndefinedMetricWarning: Precision is ill-defined and being set to 0.0 in labels with no predicted samples. Use `zero_division` parameter to control this behavior.\n",
      "  _warn_prf(average, modifier, msg_start, len(result))\n"
     ]
    }
   ],
   "source": [
    "\"\"\"\n",
    "Naive Bayes Evaluation\n",
    "\"\"\"\n",
    "# Calculate evaluation metrics\n",
    "accuracy_nb = accuracy_score(y_test, y_pred)\n",
    "precision_nb = precision_score(y_test, y_pred, average='weighted')\n",
    "recall_nb = recall_score(y_test, y_pred, average='weighted')\n",
    "f1_nb = f1_score(y_test, y_pred, average='weighted')\n",
    "\n",
    "print(\"Accuracy:\", accuracy_nb)\n",
    "print(\"Precision:\", precision_nb)\n",
    "print(\"Recall:\", recall_nb)\n",
    "print(\"F1-score:\", f1_nb)\n"
   ]
  },
  {
   "cell_type": "code",
   "execution_count": 12,
   "id": "ff6132bd",
   "metadata": {},
   "outputs": [
    {
     "name": "stdout",
     "output_type": "stream",
     "text": [
      "Accuracy: 0.8128179043743642\n",
      "Precision: 0.6855691884406507\n",
      "Recall: 0.8128179043743642\n",
      "F1-score: 0.7369597915241607\n"
     ]
    },
    {
     "name": "stderr",
     "output_type": "stream",
     "text": [
      "C:\\Users\\MYPC\\anaconda3\\lib\\site-packages\\sklearn\\metrics\\_classification.py:1344: UndefinedMetricWarning: Precision is ill-defined and being set to 0.0 in labels with no predicted samples. Use `zero_division` parameter to control this behavior.\n",
      "  _warn_prf(average, modifier, msg_start, len(result))\n"
     ]
    }
   ],
   "source": [
    "\"\"\"\n",
    "SVM Evaluation\n",
    "\"\"\"\n",
    "# Calculate evaluation metrics\n",
    "accuracy_svm = accuracy_score(y_test, y_pred)\n",
    "precision_svm = precision_score(y_test, y_pred, average='weighted')\n",
    "recall_svm = recall_score(y_test, y_pred, average='weighted')\n",
    "f1_svm = f1_score(y_test, y_pred, average='weighted')\n",
    "\n",
    "print(\"Accuracy:\", accuracy_svm)\n",
    "print(\"Precision:\", precision_svm)\n",
    "print(\"Recall:\", recall_svm)\n",
    "print(\"F1-score:\", f1_svm)\n"
   ]
  },
  {
   "cell_type": "code",
   "execution_count": 14,
   "id": "e5731d36",
   "metadata": {},
   "outputs": [
    {
     "name": "stdout",
     "output_type": "stream",
     "text": [
      "Accuracy: 0.0\n",
      "Precision: 1.0\n",
      "Recall: 1.0\n",
      "F1-score: 1.0\n"
     ]
    }
   ],
   "source": [
    "\"\"\"\n",
    "RNN Evaluation\n",
    "\"\"\"\n",
    "\n",
    "\n",
    "# Evaluate the model\n",
    "_, accuracy_rnn, precision_rnn, recall_rnn = model.evaluate(X_test_padded, y_test, verbose=0)\n",
    "\n",
    "# Calculate F1-score from precision and recall\n",
    "f1_rnn = 2 * (precision_rnn * recall_rnn) / (precision_rnn + recall_rnn)\n",
    "\n",
    "print(\"Accuracy:\", accuracy_rnn)\n",
    "print(\"Precision:\", precision_rnn)\n",
    "print(\"Recall:\", recall_rnn)\n",
    "print(\"F1-score:\", f1_rnn)\n"
   ]
  },
  {
   "cell_type": "code",
   "execution_count": 15,
   "id": "0b1991d4",
   "metadata": {},
   "outputs": [
    {
     "data": {
      "image/png": "[encoded data removed]",
      "text/plain": [
       "<Figure size 576x432 with 1 Axes>"
      ]
     },
     "metadata": {
      "needs_background": "light"
     },
     "output_type": "display_data"
    },
    {
     "data": {
      "image/png": "[encoded data removed]",
      "text/plain": [
       "<Figure size 576x432 with 1 Axes>"
      ]
     },
     "metadata": {
      "needs_background": "light"
     },
     "output_type": "display_data"
    },
    {
     "data": {
      "image/png": "[encoded data removed]",
      "text/plain": [
       "<Figure size 576x432 with 1 Axes>"
      ]
     },
     "metadata": {
      "needs_background": "light"
     },
     "output_type": "display_data"
    },
    {
     "data": {
      "image/png": "[encoded data removed]",
      "text/plain": [
       "<Figure size 576x432 with 1 Axes>"
      ]
     },
     "metadata": {
      "needs_background": "light"
     },
     "output_type": "display_data"
    }
   ],
   "source": [
    "\"\"\"\n",
    "Comparision of evaluation metrics\n",
    "\"\"\"\n",
    "\n",
    "import matplotlib.pyplot as plt\n",
    "\n",
    "# Evaluation metrics for each model\n",
    "models = ['Naive Bayes', 'SVM', 'RNN with LSTM']\n",
    "accuracy = [accuracy_nb, accuracy_svm, accuracy_rnn]\n",
    "precision = [precision_nb, precision_svm, precision_rnn]\n",
    "recall = [recall_nb, recall_svm, recall_rnn]\n",
    "f1_score = [f1_nb, f1_svm, f1_rnn]\n",
    "\n",
    "# Bar chart for accuracy comparison\n",
    "plt.figure(figsize=(8, 6))\n",
    "plt.bar(models, accuracy)\n",
    "plt.xlabel('Models')\n",
    "plt.ylabel('Accuracy')\n",
    "plt.title('Comparison of Accuracy')\n",
    "plt.ylim(0, 1)\n",
    "plt.show()\n",
    "\n",
    "# Bar chart for precision comparison\n",
    "plt.figure(figsize=(8, 6))\n",
    "plt.bar(models, precision)\n",
    "plt.xlabel('Models')\n",
    "plt.ylabel('Precision')\n",
    "plt.title('Comparison of Precision')\n",
    "plt.ylim(0, 1)\n",
    "plt.show()\n",
    "\n",
    "# Bar chart for recall comparison\n",
    "plt.figure(figsize=(8, 6))\n",
    "plt.bar(models, recall)\n",
    "plt.xlabel('Models')\n",
    "plt.ylabel('Recall')\n",
    "plt.title('Comparison of Recall')\n",
    "plt.ylim(0, 1)\n",
    "plt.show()\n",
    "\n",
    "# Bar chart for F1-score comparison\n",
    "plt.figure(figsize=(8, 6))\n",
    "plt.bar(models, f1_score)\n",
    "plt.xlabel('Models')\n",
    "plt.ylabel('F1-score')\n",
    "plt.title('Comparison of F1-score')\n",
    "plt.ylim(0, 1)\n",
    "plt.show()\n"
   ]
  },
  {
   "cell_type": "code",
   "execution_count": null,
   "id": "b67a46d2",
   "metadata": {},
   "outputs": [],
   "source": []
  }
 ],
 "metadata": {
  "kernelspec": {
   "display_name": "Python 3 (ipykernel)",
   "language": "python",
   "name": "python3"
  },
  "language_info": {
   "codemirror_mode": {
    "name": "ipython",
    "version": 3
   },
   "file_extension": ".py",
   "mimetype": "text/x-python",
   "name": "python",
   "nbconvert_exporter": "python",
   "pygments_lexer": "ipython3",
   "version": "3.9.7"
  }
 },
 "nbformat": 4,
 "nbformat_minor": 5
}
